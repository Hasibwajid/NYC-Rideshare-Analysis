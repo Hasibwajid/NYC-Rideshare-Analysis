{
  "nbformat": 4,
  "nbformat_minor": 0,
  "metadata": {
    "colab": {
      "provenance": [],
      "gpuType": "T4"
    },
    "kernelspec": {
      "name": "python3",
      "display_name": "Python 3"
    },
    "language_info": {
      "name": "python"
    },
    "accelerator": "GPU"
  },
  "cells": [
    {
      "cell_type": "markdown",
      "source": [
        "##DOWNLOADING DATASET FROM KAGGLE"
      ],
      "metadata": {
        "id": "rKq8xfozjsvQ"
      }
    },
    {
      "cell_type": "code",
      "source": [
        "!mkdir -p /content/drive/MyDrive/hals/.kaggle\n",
        "!cp /content/drive/MyDrive/hals/kaggle.json /content/drive/MyDrive/hals/.kaggle/"
      ],
      "metadata": {
        "id": "o88V5oENd8HI"
      },
      "execution_count": null,
      "outputs": []
    },
    {
      "cell_type": "code",
      "source": [
        "import os\n",
        "os.environ['KAGGLE_CONFIG_DIR'] = '/content/drive/MyDrive/hals/.kaggle'\n",
        "\n",
        "\n",
        "!kaggle datasets download -d aaronweymouth/nyc-rideshare-raw-data"
      ],
      "metadata": {
        "colab": {
          "base_uri": "https://localhost:8080/"
        },
        "id": "0r9Z8ulke2dj",
        "outputId": "eaa9383d-b96c-44f0-cba3-c8c7be3b0ecf"
      },
      "execution_count": null,
      "outputs": [
        {
          "output_type": "stream",
          "name": "stdout",
          "text": [
            "Downloading nyc-rideshare-raw-data.zip to /content\n",
            "100% 9.90G/9.91G [01:53<00:00, 83.1MB/s]\n",
            "100% 9.91G/9.91G [01:53<00:00, 93.5MB/s]\n"
          ]
        }
      ]
    },
    {
      "cell_type": "markdown",
      "source": [
        "##UNZIP"
      ],
      "metadata": {
        "id": "3RKEhJrXjomN"
      }
    },
    {
      "cell_type": "code",
      "source": [
        "!unzip /content/drive/MyDrive/hals/nyc-rideshare-raw-data.zip -d /content/drive/MyDrive/hals/nyc-rideshare-raw-data\n"
      ],
      "metadata": {
        "colab": {
          "base_uri": "https://localhost:8080/"
        },
        "id": "BlMCvGeKfJ3w",
        "outputId": "1409b0a9-23bd-4cc4-a3c2-afc953bdd4d1"
      },
      "execution_count": null,
      "outputs": [
        {
          "output_type": "stream",
          "name": "stdout",
          "text": [
            "Archive:  /content/drive/MyDrive/hals/nyc-rideshare-raw-data.zip\n",
            "  inflating: /content/drive/MyDrive/hals/nyc-rideshare-raw-data/rideshare_data.parquet  \n",
            "  inflating: /content/drive/MyDrive/hals/nyc-rideshare-raw-data/taxi_zone_lookup.csv  \n"
          ]
        }
      ]
    },
    {
      "cell_type": "markdown",
      "source": [
        "## DOWNLOADING DATA FROM S3 OBJECT BUCKET"
      ],
      "metadata": {
        "id": "VDgrbNKlaHM9"
      }
    },
    {
      "cell_type": "code",
      "source": [
        "%%capture\n",
        "!pip install boto3 graphframes\n"
      ],
      "metadata": {
        "id": "IZZOojmHPKg9"
      },
      "execution_count": 2,
      "outputs": []
    },
    {
      "cell_type": "code",
      "source": [
        "import os\n",
        "\n",
        "os.environ['AWS_ACCESS_KEY_ID'] = 'xxxxxxxxxxxxxxxxxxxxx' #replace with your AWS_ACCESS_KEY_ID\n",
        "os.environ['AWS_SECRET_ACCESS_KEY'] = 'xxxxxxxxxxxxxxxxxxxxxxxxxxxxxxxxxxxxxxxx' #replace with your AWS_SECRET_ACCESS_KEY"
      ],
      "metadata": {
        "id": "YFpbfu36Zw5D"
      },
      "execution_count": 4,
      "outputs": []
    },
    {
      "cell_type": "code",
      "source": [
        "import boto3\n",
        "import os\n",
        "\n",
        "bucket_name = 'object-bucket-ec23421-09a0b3a1-a65e-481a-b18a-7debe6b9fb1f'\n",
        "\n",
        "# Define your S3 configuration\n",
        "s3_endpoint_url = 'https://ceph-a-object-rgw.comp-teach.qmul.ac.uk'\n",
        "s3_access_key_id = os.environ['AWS_ACCESS_KEY_ID']\n",
        "s3_secret_access_key = os.environ['AWS_SECRET_ACCESS_KEY']\n",
        "bucket_name = 'data-repository-bkt'\n",
        "\n",
        "# Create an S3 client\n",
        "s3_client = boto3.client('s3',\n",
        "                         endpoint_url=s3_endpoint_url,\n",
        "                         aws_access_key_id=s3_access_key_id,\n",
        "                         aws_secret_access_key=s3_secret_access_key)\n",
        "\n",
        "# List objects in the ECS765 directory\n",
        "response = s3_client.list_objects_v2(Bucket=bucket_name, Prefix='ECS765/rideshare_2023/')\n",
        "\n",
        "# Print the filenames in the ECS765 directory\n",
        "print(\"Files in ECS765 directory:\")\n",
        "for obj in response.get('Contents', []):\n",
        "    print(obj['Key'])\n"
      ],
      "metadata": {
        "id": "UDUGyJb8uTPJ",
        "colab": {
          "base_uri": "https://localhost:8080/"
        },
        "outputId": "3ca6f44e-9d7b-4a70-bce0-ef2738ac43f6"
      },
      "execution_count": 5,
      "outputs": [
        {
          "output_type": "stream",
          "name": "stdout",
          "text": [
            "Files in ECS765 directory:\n",
            "ECS765/rideshare_2023/aggregated_monthly_business_trips/_SUCCESS\n",
            "ECS765/rideshare_2023/aggregated_monthly_business_trips/part-00000-74becf6c-b0ca-42c8-86c9-284897e85991-c000.csv\n",
            "ECS765/rideshare_2023/aggregated_monthly_business_trips/part-00031-74becf6c-b0ca-42c8-86c9-284897e85991-c000.csv\n",
            "ECS765/rideshare_2023/aggregated_monthly_business_trips/part-00054-74becf6c-b0ca-42c8-86c9-284897e85991-c000.csv\n",
            "ECS765/rideshare_2023/aggregated_monthly_business_trips/part-00069-74becf6c-b0ca-42c8-86c9-284897e85991-c000.csv\n",
            "ECS765/rideshare_2023/aggregated_monthly_business_trips/part-00119-74becf6c-b0ca-42c8-86c9-284897e85991-c000.csv\n",
            "ECS765/rideshare_2023/aggregated_monthly_business_trips/part-00125-74becf6c-b0ca-42c8-86c9-284897e85991-c000.csv\n",
            "ECS765/rideshare_2023/aggregated_monthly_business_trips/part-00138-74becf6c-b0ca-42c8-86c9-284897e85991-c000.csv\n",
            "ECS765/rideshare_2023/aggregated_monthly_business_trips/part-00160-74becf6c-b0ca-42c8-86c9-284897e85991-c000.csv\n",
            "ECS765/rideshare_2023/aggregated_monthly_business_trips/part-00174-74becf6c-b0ca-42c8-86c9-284897e85991-c000.csv\n",
            "ECS765/rideshare_2023/aggregated_monthly_business_trips/part-00179-74becf6c-b0ca-42c8-86c9-284897e85991-c000.csv\n",
            "ECS765/rideshare_2023/aggregated_monthly_business_trips/part-00191-74becf6c-b0ca-42c8-86c9-284897e85991-c000.csv\n",
            "ECS765/rideshare_2023/aggregated_results/_SUCCESS\n",
            "ECS765/rideshare_2023/aggregated_results/part-00000-efb002ff-4e40-4ed2-a209-c5c3afef96dc-c000.csv\n",
            "ECS765/rideshare_2023/aggregated_results/part-00001-efb002ff-4e40-4ed2-a209-c5c3afef96dc-c000.csv\n",
            "ECS765/rideshare_2023/rideshare_data.csv\n",
            "ECS765/rideshare_2023/sample_data.csv\n",
            "ECS765/rideshare_2023/taxi_zone_lookup.csv\n"
          ]
        }
      ]
    },
    {
      "cell_type": "markdown",
      "source": [
        "## Downloading files from s3 bucket"
      ],
      "metadata": {
        "id": "isTsasUZZ2uE"
      }
    },
    {
      "cell_type": "code",
      "source": [
        "import boto3\n",
        "import os\n",
        "\n",
        "# Define your S3 configuration\n",
        "s3_endpoint_url = 'https://ceph-a-object-rgw.comp-teach.qmul.ac.uk'\n",
        "s3_access_key_id = os.environ['AWS_ACCESS_KEY_ID']\n",
        "s3_secret_access_key = os.environ['AWS_SECRET_ACCESS_KEY']\n",
        "bucket_name = 'data-repository-bkt'\n",
        "\n",
        "# Create an S3 client\n",
        "s3_client = boto3.client('s3',\n",
        "                         endpoint_url=s3_endpoint_url,\n",
        "                         aws_access_key_id=s3_access_key_id,\n",
        "                         aws_secret_access_key=s3_secret_access_key)\n",
        "\n",
        "# Specify the keys of the files to download\n",
        "file_keys = [\n",
        "    'ECS765/rideshare_2023/rideshare_data.csv',\n",
        "    # 'ECS765/rideshare_2023/sample_data.csv',\n",
        "    # 'ECS765/rideshare_2023/taxi_zone_lookup.csv'\n",
        "]\n",
        "\n",
        "# Download the specified files\n",
        "for key in file_keys:\n",
        "    file_name = key.split('/')[-1]  # Extract the file name\n",
        "    local_file_path = f\"/content/drive/MyDrive/hals/nyc-rideshare-raw-data/{file_name}\"  # Specify the local file path to save\n",
        "    s3_client.download_file(bucket_name, key, local_file_path)\n",
        "    print(f\"Downloaded file: {key}\")\n"
      ],
      "metadata": {
        "colab": {
          "base_uri": "https://localhost:8080/"
        },
        "id": "ILl9oG3HPz71",
        "outputId": "cec7860e-8b80-4c12-cd47-ae2c91252971"
      },
      "execution_count": 6,
      "outputs": [
        {
          "output_type": "stream",
          "name": "stdout",
          "text": [
            "Downloaded file: ECS765/rideshare_2023/rideshare_data.csv\n"
          ]
        }
      ]
    },
    {
      "cell_type": "code",
      "source": [
        "!pip install pyspark"
      ],
      "metadata": {
        "colab": {
          "base_uri": "https://localhost:8080/"
        },
        "id": "0BnSFHsjpsv4",
        "outputId": "5b05e191-86eb-42cf-9ccd-a89951337618"
      },
      "execution_count": null,
      "outputs": [
        {
          "output_type": "stream",
          "name": "stdout",
          "text": [
            "Requirement already satisfied: pyspark in /usr/local/lib/python3.10/dist-packages (3.5.1)\n",
            "Requirement already satisfied: py4j==0.10.9.7 in /usr/local/lib/python3.10/dist-packages (from pyspark) (0.10.9.7)\n"
          ]
        }
      ]
    },
    {
      "cell_type": "code",
      "source": [
        "import pandas as pd\n",
        "\n",
        "# Define paths to the files\n",
        "rideshare_data_path = '/content/drive/MyDrive/hals/nyc-rideshare-raw-data/rideshare_data.csv'\n",
        "sample_data_path = '/content/drive/MyDrive/hals/nyc-rideshare-raw-data/sample_data.csv'\n",
        "taxi_zone_lookup_path = '/content/drive/MyDrive/hals/nyc-rideshare-raw-data/taxi_zone_lookup.csv'\n",
        "\n",
        "# Define chunk size (adjust based on memory availability)\n",
        "chunksize = 10000  # Read 10000 rows at a time (you can adjust this value)\n",
        "\n",
        "# Read the files in chunks\n",
        "for filepath in [rideshare_data_path, sample_data_path, taxi_zone_lookup_path]:\n",
        "    print(f\"Reading file: {filepath}\")\n",
        "    for i, chunk in enumerate(pd.read_csv(filepath, chunksize=chunksize)):\n",
        "        # Process the chunk of data here\n",
        "        # For example, you can print the first few rows of each chunk\n",
        "        print(f\"Chunk {i+1} - Shape: {chunk.shape}\")\n",
        "        print(chunk.head())  # Show the first few rows of the chunk\n"
      ],
      "metadata": {
        "id": "XZapZ4KgOlzd"
      },
      "execution_count": null,
      "outputs": []
    },
    {
      "cell_type": "markdown",
      "source": [
        "## LOADING INTO SPARK"
      ],
      "metadata": {
        "id": "KOXM-fipaS8B"
      }
    },
    {
      "cell_type": "code",
      "source": [
        "!pip install pyspark"
      ],
      "metadata": {
        "colab": {
          "base_uri": "https://localhost:8080/"
        },
        "id": "xfi3pzGCdt4l",
        "outputId": "f0bc097a-1488-4fe7-ed20-4070098a4dc2"
      },
      "execution_count": 9,
      "outputs": [
        {
          "output_type": "stream",
          "name": "stdout",
          "text": [
            "Collecting pyspark\n",
            "  Downloading pyspark-3.5.1.tar.gz (317.0 MB)\n",
            "\u001b[2K     \u001b[90m━━━━━━━━━━━━━━━━━━━━━━━━━━━━━━━━━━━━━━━━\u001b[0m \u001b[32m317.0/317.0 MB\u001b[0m \u001b[31m4.4 MB/s\u001b[0m eta \u001b[36m0:00:00\u001b[0m\n",
            "\u001b[?25h  Preparing metadata (setup.py) ... \u001b[?25l\u001b[?25hdone\n",
            "Requirement already satisfied: py4j==0.10.9.7 in /usr/local/lib/python3.10/dist-packages (from pyspark) (0.10.9.7)\n",
            "Building wheels for collected packages: pyspark\n",
            "  Building wheel for pyspark (setup.py) ... \u001b[?25l\u001b[?25hdone\n",
            "  Created wheel for pyspark: filename=pyspark-3.5.1-py2.py3-none-any.whl size=317488493 sha256=80d78ddc265cce8d3bf8d93cb466efcd12c74e1dd62d13ef23ea6b3f238a050f\n",
            "  Stored in directory: /root/.cache/pip/wheels/80/1d/60/2c256ed38dddce2fdd93be545214a63e02fbd8d74fb0b7f3a6\n",
            "Successfully built pyspark\n",
            "Installing collected packages: pyspark\n",
            "Successfully installed pyspark-3.5.1\n"
          ]
        }
      ]
    },
    {
      "cell_type": "code",
      "source": [
        "from pyspark.sql import SparkSession\n",
        "from pyspark.sql.functions import from_unixtime\n",
        "\n",
        "# Create SparkSession\n",
        "spark = SparkSession.builder \\\n",
        "    .appName(\"NYC Rideshare Analysis\") \\\n",
        "    .getOrCreate()\n",
        "\n",
        "# Load rideshare_data.csv\n",
        "rides_df = spark.read.csv(\"/content/drive/MyDrive/hals/nyc-rideshare-raw-data/rideshare_data.csv\", header=True)\n",
        "\n",
        "# Load taxi_zone_lookup.csv\n",
        "taxi_zone_df = spark.read.csv(\"/content/drive/MyDrive/hals/nyc-rideshare-raw-data/taxi_zone_lookup.csv\", header=True)\n"
      ],
      "metadata": {
        "id": "CaTB7STfOlwp"
      },
      "execution_count": 10,
      "outputs": []
    },
    {
      "cell_type": "code",
      "source": [
        "from pyspark.sql.functions import col, from_unixtime"
      ],
      "metadata": {
        "id": "_P2JpOBUOluM"
      },
      "execution_count": 18,
      "outputs": []
    },
    {
      "cell_type": "code",
      "source": [
        "# Display schema of rides_df\n",
        "print(\"Schema of rides_df:\")\n",
        "rides_df.printSchema()\n",
        "\n",
        "# Display schema of taxi_zone_df\n",
        "print(\"\\nSchema of taxi_zone_df:\")\n",
        "taxi_zone_df.printSchema()\n"
      ],
      "metadata": {
        "colab": {
          "base_uri": "https://localhost:8080/"
        },
        "id": "8ChTpCH5hgEW",
        "outputId": "3d2225f8-3996-4965-ff8b-3536929f61cc"
      },
      "execution_count": 21,
      "outputs": [
        {
          "output_type": "stream",
          "name": "stdout",
          "text": [
            "Schema of rides_df:\n",
            "root\n",
            " |-- business: string (nullable = true)\n",
            " |-- pickup_location: string (nullable = true)\n",
            " |-- dropoff_location: string (nullable = true)\n",
            " |-- trip_length: string (nullable = true)\n",
            " |-- request_to_pickup: string (nullable = true)\n",
            " |-- total_ride_time: string (nullable = true)\n",
            " |-- on_scene_to_pickup: string (nullable = true)\n",
            " |-- on_scene_to_dropoff: string (nullable = true)\n",
            " |-- time_of_day: string (nullable = true)\n",
            " |-- date: string (nullable = true)\n",
            " |-- passenger_fare: string (nullable = true)\n",
            " |-- driver_total_pay: string (nullable = true)\n",
            " |-- rideshare_profit: string (nullable = true)\n",
            " |-- hourly_rate: string (nullable = true)\n",
            " |-- dollars_per_mile: string (nullable = true)\n",
            "\n",
            "\n",
            "Schema of taxi_zone_df:\n",
            "root\n",
            " |-- LocationID: string (nullable = true)\n",
            " |-- Borough: string (nullable = true)\n",
            " |-- Zone: string (nullable = true)\n",
            " |-- service_zone: string (nullable = true)\n",
            "\n"
          ]
        }
      ]
    },
    {
      "cell_type": "markdown",
      "source": [
        "##Task 1 (MERGING)"
      ],
      "metadata": {
        "id": "gfSSVpwko21d"
      }
    },
    {
      "cell_type": "code",
      "source": [
        "from pyspark.sql.functions import col\n",
        "\n",
        "# Step 1: Apply the 'join' function based on fields pickup_location and dropoff_location\n",
        "# Alias the columns from taxi_zone_df appropriately to avoid duplicate column names\n",
        "join_df = rides_df.alias(\"rides\").join(taxi_zone_df.alias(\"pickup_zone\"),\n",
        "                                      col(\"rides.pickup_location\") == col(\"pickup_zone.LocationID\"), \"left\") \\\n",
        "                                 .join(taxi_zone_df.alias(\"dropoff_zone\"),\n",
        "                                      col(\"rides.dropoff_location\") == col(\"dropoff_zone.LocationID\"), \"left\") \\\n",
        "                                 .select(\"rides.*\",\n",
        "                                         col(\"pickup_zone.Borough\").alias(\"Pickup_Borough\"),\n",
        "                                         col(\"pickup_zone.Zone\").alias(\"Pickup_Zone\"),\n",
        "                                         col(\"pickup_zone.service_zone\").alias(\"Pickup_service_zone\"),\n",
        "                                         col(\"dropoff_zone.Borough\").alias(\"Dropoff_Borough\"),\n",
        "                                         col(\"dropoff_zone.Zone\").alias(\"Dropoff_Zone\"),\n",
        "                                         col(\"dropoff_zone.service_zone\").alias(\"Dropoff_service_zone\"))\n",
        "\n",
        "# Display the schema of the joined dataframe\n",
        "join_df.printSchema()\n"
      ],
      "metadata": {
        "colab": {
          "base_uri": "https://localhost:8080/"
        },
        "id": "Bz2a-jNXeE5Y",
        "outputId": "511101e7-b704-4b5b-a7a2-382c195eb7d6"
      },
      "execution_count": 60,
      "outputs": [
        {
          "output_type": "stream",
          "name": "stdout",
          "text": [
            "root\n",
            " |-- business: string (nullable = true)\n",
            " |-- pickup_location: string (nullable = true)\n",
            " |-- dropoff_location: string (nullable = true)\n",
            " |-- trip_length: string (nullable = true)\n",
            " |-- request_to_pickup: string (nullable = true)\n",
            " |-- total_ride_time: string (nullable = true)\n",
            " |-- on_scene_to_pickup: string (nullable = true)\n",
            " |-- on_scene_to_dropoff: string (nullable = true)\n",
            " |-- time_of_day: string (nullable = true)\n",
            " |-- date: string (nullable = true)\n",
            " |-- passenger_fare: string (nullable = true)\n",
            " |-- driver_total_pay: string (nullable = true)\n",
            " |-- rideshare_profit: string (nullable = true)\n",
            " |-- hourly_rate: string (nullable = true)\n",
            " |-- dollars_per_mile: string (nullable = true)\n",
            " |-- Pickup_Borough: string (nullable = true)\n",
            " |-- Pickup_Zone: string (nullable = true)\n",
            " |-- Pickup_service_zone: string (nullable = true)\n",
            " |-- Dropoff_Borough: string (nullable = true)\n",
            " |-- Dropoff_Zone: string (nullable = true)\n",
            " |-- Dropoff_service_zone: string (nullable = true)\n",
            "\n"
          ]
        }
      ]
    },
    {
      "cell_type": "code",
      "source": [
        "print('Rides_df :', rides_df.columns)\n",
        "print('taxi_zone_df :', taxi_zone_df.columns)"
      ],
      "metadata": {
        "colab": {
          "base_uri": "https://localhost:8080/"
        },
        "id": "B4AmaR3ymQDx",
        "outputId": "303e793e-9d57-4287-8032-27ceb3c0ee98"
      },
      "execution_count": 61,
      "outputs": [
        {
          "output_type": "stream",
          "name": "stdout",
          "text": [
            "Rides_df : ['business', 'pickup_location', 'dropoff_location', 'trip_length', 'request_to_pickup', 'total_ride_time', 'on_scene_to_pickup', 'on_scene_to_dropoff', 'time_of_day', 'date', 'passenger_fare', 'driver_total_pay', 'rideshare_profit', 'hourly_rate', 'dollars_per_mile']\n",
            "taxi_zone_df : ['LocationID', 'Borough', 'Zone', 'service_zone']\n"
          ]
        }
      ]
    },
    {
      "cell_type": "code",
      "source": [
        "print('joined dataset:::',join_df.columns)\n"
      ],
      "metadata": {
        "colab": {
          "base_uri": "https://localhost:8080/"
        },
        "id": "NyOrrY57gwhi",
        "outputId": "31709c06-f9a4-4e44-ad9a-ea4b33a662e8"
      },
      "execution_count": 62,
      "outputs": [
        {
          "output_type": "stream",
          "name": "stdout",
          "text": [
            "joined dataset::: ['business', 'pickup_location', 'dropoff_location', 'trip_length', 'request_to_pickup', 'total_ride_time', 'on_scene_to_pickup', 'on_scene_to_dropoff', 'time_of_day', 'date', 'passenger_fare', 'driver_total_pay', 'rideshare_profit', 'hourly_rate', 'dollars_per_mile', 'Pickup_Borough', 'Pickup_Zone', 'Pickup_service_zone', 'Dropoff_Borough', 'Dropoff_Zone', 'Dropoff_service_zone']\n"
          ]
        }
      ]
    },
    {
      "cell_type": "code",
      "source": [
        "print('Rides_df :')\n",
        "rides_df.show(5)\n",
        "print('taxi_zone_df :')\n",
        "taxi_zone_df.show(5)"
      ],
      "metadata": {
        "colab": {
          "base_uri": "https://localhost:8080/"
        },
        "id": "a0eqsdPXmtdT",
        "outputId": "e2a4cbdd-6038-4d34-c2c2-bf64f3f1b026"
      },
      "execution_count": 63,
      "outputs": [
        {
          "output_type": "stream",
          "name": "stdout",
          "text": [
            "Rides_df :\n",
            "+--------+---------------+----------------+-----------+-----------------+---------------+------------------+-------------------+-----------+----------+--------------+----------------+----------------+-----------+----------------+\n",
            "|business|pickup_location|dropoff_location|trip_length|request_to_pickup|total_ride_time|on_scene_to_pickup|on_scene_to_dropoff|time_of_day|      date|passenger_fare|driver_total_pay|rideshare_profit|hourly_rate|dollars_per_mile|\n",
            "+--------+---------------+----------------+-----------+-----------------+---------------+------------------+-------------------+-----------+----------+--------------+----------------+----------------+-----------+----------------+\n",
            "|    Uber|            151|             244|       4.98|            226.0|          761.0|              19.0|              780.0|    morning|1684713600|         22.82|           13.69|            9.13|      63.18|            2.75|\n",
            "|    Uber|            244|              78|       4.35|            197.0|         1423.0|             120.0|             1543.0|    morning|1684713600|         24.27|            19.1|            5.17|      44.56|            4.39|\n",
            "|    Uber|            151|             138|       8.82|            171.0|         1527.0|              12.0|             1539.0|    morning|1684713600|         47.67|           25.94|           21.73|      60.68|            2.94|\n",
            "|    Uber|            138|             151|       8.72|            260.0|         1761.0|              44.0|             1805.0|    morning|1684713600|         45.67|           28.01|           17.66|      55.86|            3.21|\n",
            "|    Uber|             36|             129|       5.05|            208.0|         1762.0|              37.0|             1799.0|    morning|1684713600|         33.49|           26.47|            7.02|      52.97|            5.24|\n",
            "+--------+---------------+----------------+-----------+-----------------+---------------+------------------+-------------------+-----------+----------+--------------+----------------+----------------+-----------+----------------+\n",
            "only showing top 5 rows\n",
            "\n",
            "taxi_zone_df :\n",
            "+----------+-------------+--------------------+------------+\n",
            "|LocationID|      Borough|                Zone|service_zone|\n",
            "+----------+-------------+--------------------+------------+\n",
            "|         1|          EWR|      Newark Airport|         EWR|\n",
            "|         2|       Queens|         Jamaica Bay|   Boro Zone|\n",
            "|         3|        Bronx|Allerton/Pelham G...|   Boro Zone|\n",
            "|         4|    Manhattan|       Alphabet City| Yellow Zone|\n",
            "|         5|Staten Island|       Arden Heights|   Boro Zone|\n",
            "+----------+-------------+--------------------+------------+\n",
            "only showing top 5 rows\n",
            "\n"
          ]
        }
      ]
    },
    {
      "cell_type": "code",
      "source": [
        "# Show the first few rows of the joined dataframe\n",
        "join_df.show(5)"
      ],
      "metadata": {
        "colab": {
          "base_uri": "https://localhost:8080/"
        },
        "id": "rqIOKRmPnb6i",
        "outputId": "3f20b820-5fdb-4ba4-9830-5435f094a2d2"
      },
      "execution_count": 64,
      "outputs": [
        {
          "output_type": "stream",
          "name": "stdout",
          "text": [
            "+--------+---------------+----------------+-----------+-----------------+---------------+------------------+-------------------+-----------+----------+--------------+----------------+----------------+-----------+----------------+--------------+--------------------+-------------------+---------------+--------------------+--------------------+\n",
            "|business|pickup_location|dropoff_location|trip_length|request_to_pickup|total_ride_time|on_scene_to_pickup|on_scene_to_dropoff|time_of_day|      date|passenger_fare|driver_total_pay|rideshare_profit|hourly_rate|dollars_per_mile|Pickup_Borough|         Pickup_Zone|Pickup_service_zone|Dropoff_Borough|        Dropoff_Zone|Dropoff_service_zone|\n",
            "+--------+---------------+----------------+-----------+-----------------+---------------+------------------+-------------------+-----------+----------+--------------+----------------+----------------+-----------+----------------+--------------+--------------------+-------------------+---------------+--------------------+--------------------+\n",
            "|    Uber|            151|             244|       4.98|            226.0|          761.0|              19.0|              780.0|    morning|1684713600|         22.82|           13.69|            9.13|      63.18|            2.75|     Manhattan|    Manhattan Valley|        Yellow Zone|      Manhattan|Washington Height...|           Boro Zone|\n",
            "|    Uber|            244|              78|       4.35|            197.0|         1423.0|             120.0|             1543.0|    morning|1684713600|         24.27|            19.1|            5.17|      44.56|            4.39|     Manhattan|Washington Height...|          Boro Zone|          Bronx|        East Tremont|           Boro Zone|\n",
            "|    Uber|            151|             138|       8.82|            171.0|         1527.0|              12.0|             1539.0|    morning|1684713600|         47.67|           25.94|           21.73|      60.68|            2.94|     Manhattan|    Manhattan Valley|        Yellow Zone|         Queens|   LaGuardia Airport|            Airports|\n",
            "|    Uber|            138|             151|       8.72|            260.0|         1761.0|              44.0|             1805.0|    morning|1684713600|         45.67|           28.01|           17.66|      55.86|            3.21|        Queens|   LaGuardia Airport|           Airports|      Manhattan|    Manhattan Valley|         Yellow Zone|\n",
            "|    Uber|             36|             129|       5.05|            208.0|         1762.0|              37.0|             1799.0|    morning|1684713600|         33.49|           26.47|            7.02|      52.97|            5.24|      Brooklyn|      Bushwick North|          Boro Zone|         Queens|     Jackson Heights|           Boro Zone|\n",
            "+--------+---------------+----------------+-----------+-----------------+---------------+------------------+-------------------+-----------+----------+--------------+----------------+----------------+-----------+----------------+--------------+--------------------+-------------------+---------------+--------------------+--------------------+\n",
            "only showing top 5 rows\n",
            "\n"
          ]
        }
      ]
    },
    {
      "cell_type": "markdown",
      "source": [
        "####Convert UNIX timestamp to \"yyyy-MM-dd\" format"
      ],
      "metadata": {
        "id": "YrTpgPJbo76O"
      }
    },
    {
      "cell_type": "code",
      "source": [
        "from pyspark.sql.functions import from_unixtime\n",
        "\n",
        "# Convert UNIX timestamp to date format\n",
        "join_df = join_df.withColumn(\"date\", from_unixtime(\"date\", \"yyyy-MM-dd\"))"
      ],
      "metadata": {
        "id": "z0PtaFD-lh9Y"
      },
      "execution_count": 65,
      "outputs": []
    },
    {
      "cell_type": "markdown",
      "source": [
        "####Print the number of rows and schema of the new DataFrame"
      ],
      "metadata": {
        "id": "uX8HVo3DpETv"
      }
    },
    {
      "cell_type": "code",
      "source": [
        "# Count the number of rows\n",
        "row_count = join_df.count()\n",
        "print(\"Number of Rows:\", row_count)\n",
        "\n",
        "# Print the schema of the DataFrame\n",
        "join_df.printSchema()\n"
      ],
      "metadata": {
        "colab": {
          "base_uri": "https://localhost:8080/"
        },
        "id": "N_GKX8INn7AV",
        "outputId": "00a8a54f-24df-4753-ef6b-858f393643ac"
      },
      "execution_count": 66,
      "outputs": [
        {
          "output_type": "stream",
          "name": "stdout",
          "text": [
            "Number of Rows: 69725864\n",
            "root\n",
            " |-- business: string (nullable = true)\n",
            " |-- pickup_location: string (nullable = true)\n",
            " |-- dropoff_location: string (nullable = true)\n",
            " |-- trip_length: string (nullable = true)\n",
            " |-- request_to_pickup: string (nullable = true)\n",
            " |-- total_ride_time: string (nullable = true)\n",
            " |-- on_scene_to_pickup: string (nullable = true)\n",
            " |-- on_scene_to_dropoff: string (nullable = true)\n",
            " |-- time_of_day: string (nullable = true)\n",
            " |-- date: string (nullable = true)\n",
            " |-- passenger_fare: string (nullable = true)\n",
            " |-- driver_total_pay: string (nullable = true)\n",
            " |-- rideshare_profit: string (nullable = true)\n",
            " |-- hourly_rate: string (nullable = true)\n",
            " |-- dollars_per_mile: string (nullable = true)\n",
            " |-- Pickup_Borough: string (nullable = true)\n",
            " |-- Pickup_Zone: string (nullable = true)\n",
            " |-- Pickup_service_zone: string (nullable = true)\n",
            " |-- Dropoff_Borough: string (nullable = true)\n",
            " |-- Dropoff_Zone: string (nullable = true)\n",
            " |-- Dropoff_service_zone: string (nullable = true)\n",
            "\n"
          ]
        }
      ]
    },
    {
      "cell_type": "code",
      "source": [],
      "metadata": {
        "id": "PcvDDyAzpGqD"
      },
      "execution_count": null,
      "outputs": []
    }
  ]
}